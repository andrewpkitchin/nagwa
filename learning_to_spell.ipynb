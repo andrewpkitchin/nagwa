{
  "nbformat": 4,
  "nbformat_minor": 0,
  "metadata": {
    "colab": {
      "name": "learning_to_spell.ipynb",
      "provenance": [],
      "collapsed_sections": [],
      "include_colab_link": true
    },
    "kernelspec": {
      "name": "python3",
      "display_name": "Python 3"
    },
    "language_info": {
      "name": "python"
    }
  },
  "cells": [
    {
      "cell_type": "markdown",
      "metadata": {
        "id": "view-in-github",
        "colab_type": "text"
      },
      "source": [
        "<a href=\"https://colab.research.google.com/github/andrewpkitchin/nagwa/blob/main/learning_to_spell.ipynb\" target=\"_parent\"><img src=\"https://colab.research.google.com/assets/colab-badge.svg\" alt=\"Open In Colab\"/></a>"
      ]
    },
    {
      "cell_type": "code",
      "metadata": {
        "colab": {
          "base_uri": "https://localhost:8080/"
        },
        "id": "KdjlotdFkIHh",
        "outputId": "324d2acb-beed-48b2-d61b-10a294c2ce7f"
      },
      "source": [
        "pip install Levenshtein"
      ],
      "execution_count": 1,
      "outputs": [
        {
          "output_type": "stream",
          "name": "stdout",
          "text": [
            "Collecting Levenshtein\n",
            "  Downloading Levenshtein-0.18.1-cp37-cp37m-manylinux_2_17_x86_64.manylinux2014_x86_64.whl (258 kB)\n",
            "\u001b[K     |████████████████████████████████| 258 kB 22.6 MB/s \n",
            "\u001b[?25hCollecting rapidfuzz<3.0.0,>=2.0.1\n",
            "  Downloading rapidfuzz-2.0.6-cp37-cp37m-manylinux_2_17_x86_64.manylinux2014_x86_64.whl (1.7 MB)\n",
            "\u001b[K     |████████████████████████████████| 1.7 MB 8.7 MB/s \n",
            "\u001b[?25hCollecting jarowinkler<1.1.0,>=1.0.1\n",
            "  Downloading jarowinkler-1.0.1-cp37-cp37m-manylinux_2_17_x86_64.manylinux2014_x86_64.whl (103 kB)\n",
            "\u001b[K     |████████████████████████████████| 103 kB 55.0 MB/s \n",
            "\u001b[?25hInstalling collected packages: jarowinkler, rapidfuzz, Levenshtein\n",
            "Successfully installed Levenshtein-0.18.1 jarowinkler-1.0.1 rapidfuzz-2.0.6\n"
          ]
        }
      ]
    },
    {
      "cell_type": "code",
      "metadata": {
        "id": "4UAZSmkcj8da"
      },
      "source": [
        "import Levenshtein as lev, difflib"
      ],
      "execution_count": 2,
      "outputs": []
    },
    {
      "cell_type": "markdown",
      "metadata": {
        "id": "HafraCZl2L-r"
      },
      "source": [
        "System to give feedback to students practicing their spelling."
      ]
    },
    {
      "cell_type": "code",
      "metadata": {
        "id": "wr8FoXPhS_8O"
      },
      "source": [
        "def permutations(input_one, input_two):\n",
        "  length = len(input_one)\n",
        "  answer_output_string = \"\"\n",
        "  input_output_string = \"\"\n",
        "  for i in range(length):\n",
        "    if input_one[i] == input_two[i]:\n",
        "      answer_output_string += input_one[i]\n",
        "      input_output_string += input_one[i]\n",
        "    else:\n",
        "      answer_output_string += \"\\033[1m\" + input_one[i] + \"\\033[0m\"\n",
        "      input_output_string += \"\\033[1m\" + input_two[i] + \"\\033[0m\"\n",
        "  return [answer_output_string, input_output_string]\n",
        "\n",
        "def difference_printer(input_one, input_two):\n",
        "  input_one_list = list(input_one) \n",
        "  input_two_list = list(input_two)\n",
        "  input_one_list.sort()\n",
        "  input_two_list.sort()\n",
        "\n",
        "  if input_one_list == input_two_list:\n",
        "    print(permutations(input_one, input_two)[0])\n",
        "    print(permutations(input_one, input_two)[1])\n",
        "\n",
        "  else:\n",
        "      diff = difflib.Differ()\n",
        "      comparison_list = list(diff.compare(input_one, input_two))\n",
        "      \n",
        "      answer_print_string = \"\"\n",
        "      user_print_string = \"\"\n",
        "      \n",
        "      for i in range(len(comparison_list)):\n",
        "        if comparison_list[i][0] == \" \":\n",
        "          user_print_string += comparison_list[i][-1]\n",
        "          answer_print_string += comparison_list[i][-1]\n",
        "        elif comparison_list[i][0] == \"-\":\n",
        "          answer_print_string += \"\\033[1m\" + comparison_list[i][-1] + \"\\033[0m\" \n",
        "        elif comparison_list[i][0] == \"+\":\n",
        "          user_print_string += \"\\033[1m\" + comparison_list[i][-1] + \"\\033[0m\"\n",
        "\n",
        "      print(answer_print_string)\n",
        "      print(user_print_string)\n",
        "\n",
        "def comparison(input_one, input_two):\n",
        "  input_one = input_one.strip()\n",
        "  input_two = input_two.strip()\n",
        "  input_one = input_one.lower()\n",
        "  input_two = input_two.lower()\n",
        "\n",
        "  Ratio = lev.ratio(input_one,input_two)\n",
        "  Distance = lev.distance(input_one,input_two)\n",
        "\n",
        "  if Ratio == 1:\n",
        "    print(\"Well Done!\", \"\\033[1m\" + input_one + \"\\033[0m\" , \"is correct.\")\n",
        "  elif Ratio >.8:\n",
        "    print(\"Here's what to look at:\")\n",
        "    difference_printer(input_one, input_two)\n",
        "  else:\n",
        "    print(\"Not quite, here's the correct answer:\", \"\\033[1m\" + input_one + \"\\033[0m\")"
      ],
      "execution_count": 3,
      "outputs": []
    },
    {
      "cell_type": "code",
      "metadata": {
        "colab": {
          "base_uri": "https://localhost:8080/"
        },
        "id": "iDtXV_T7-u34",
        "outputId": "2f34ca65-afdf-4294-dd25-890ff658669e"
      },
      "source": [
        "comparison(\"spelling\", \"spellign\")"
      ],
      "execution_count": 4,
      "outputs": [
        {
          "output_type": "stream",
          "name": "stdout",
          "text": [
            "Here's what to look at:\n",
            "spelli\u001b[1mn\u001b[0m\u001b[1mg\u001b[0m\n",
            "spelli\u001b[1mg\u001b[0m\u001b[1mn\u001b[0m\n"
          ]
        }
      ]
    },
    {
      "cell_type": "code",
      "metadata": {
        "colab": {
          "base_uri": "https://localhost:8080/"
        },
        "id": "OvcUYNvR_-73",
        "outputId": "ad5d05eb-91bb-43c3-b3df-714a616390cd"
      },
      "source": [
        "comparison(\"friend\", \"freind\")"
      ],
      "execution_count": 5,
      "outputs": [
        {
          "output_type": "stream",
          "name": "stdout",
          "text": [
            "Here's what to look at:\n",
            "fr\u001b[1mi\u001b[0m\u001b[1me\u001b[0mnd\n",
            "fr\u001b[1me\u001b[0m\u001b[1mi\u001b[0mnd\n"
          ]
        }
      ]
    },
    {
      "cell_type": "code",
      "metadata": {
        "colab": {
          "base_uri": "https://localhost:8080/"
        },
        "id": "T_KEJGckAC2x",
        "outputId": "dbb3714a-a4df-4363-830e-845c692d3b99"
      },
      "source": [
        "comparison(\"friend\", \"frneid\")"
      ],
      "execution_count": 6,
      "outputs": [
        {
          "output_type": "stream",
          "name": "stdout",
          "text": [
            "Not quite, here's the correct answer: \u001b[1mfriend\u001b[0m\n"
          ]
        }
      ]
    },
    {
      "cell_type": "code",
      "metadata": {
        "colab": {
          "base_uri": "https://localhost:8080/"
        },
        "id": "ettucjn13XvM",
        "outputId": "f7b8010e-b98a-448e-f2dd-e20073b25832"
      },
      "source": [
        "comparison(\"school\", \"loohcs\")"
      ],
      "execution_count": 7,
      "outputs": [
        {
          "output_type": "stream",
          "name": "stdout",
          "text": [
            "Not quite, here's the correct answer: \u001b[1mschool\u001b[0m\n"
          ]
        }
      ]
    },
    {
      "cell_type": "code",
      "metadata": {
        "colab": {
          "base_uri": "https://localhost:8080/"
        },
        "id": "TX_JNJuc58OM",
        "outputId": "c4528670-f45f-455c-d78d-a280baae57b7"
      },
      "source": [
        "comparison(\"school\", \"schoole\")"
      ],
      "execution_count": 8,
      "outputs": [
        {
          "output_type": "stream",
          "name": "stdout",
          "text": [
            "Here's what to look at:\n",
            "school\n",
            "school\u001b[1me\u001b[0m\n"
          ]
        }
      ]
    },
    {
      "cell_type": "code",
      "metadata": {
        "colab": {
          "base_uri": "https://localhost:8080/"
        },
        "id": "2HAVmoUy9y_D",
        "outputId": "02b4c1bd-23e2-42fe-a9c8-0fa50fc0e3e1"
      },
      "source": [
        "comparison(\"grammar\", \"grammer\")"
      ],
      "execution_count": 9,
      "outputs": [
        {
          "output_type": "stream",
          "name": "stdout",
          "text": [
            "Here's what to look at:\n",
            "gramm\u001b[1ma\u001b[0mr\n",
            "gramm\u001b[1me\u001b[0mr\n"
          ]
        }
      ]
    },
    {
      "cell_type": "code",
      "metadata": {
        "colab": {
          "base_uri": "https://localhost:8080/"
        },
        "id": "0Uzx6F74JXVg",
        "outputId": "345a65ac-08fe-4d7d-8fdf-a2253d4b61c1"
      },
      "source": [
        "comparison(\"pot\", \"por\")"
      ],
      "execution_count": 10,
      "outputs": [
        {
          "output_type": "stream",
          "name": "stdout",
          "text": [
            "Not quite, here's the correct answer: \u001b[1mpot\u001b[0m\n"
          ]
        }
      ]
    }
  ]
}